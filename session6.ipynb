{
 "cells": [
  {
   "cell_type": "markdown",
   "id": "62b5ab58-2b31-4b28-9e9a-c4ec9100c197",
   "metadata": {},
   "source": [
    "#session 6 - sin & cos table"
   ]
  },
  {
   "cell_type": "code",
   "execution_count": 4,
   "id": "440d8bc5-10f3-4f74-b1ba-a9ced57c9e2b",
   "metadata": {},
   "outputs": [],
   "source": [
    "import math\n",
    "\n",
    "def sin(x): #returns sin x in radians\n",
    "    return math.sin(x)\n",
    "def cos(x): #returns cosx in radians\n",
    "    return math.cos(x)"
   ]
  },
  {
   "cell_type": "markdown",
   "id": "31b19806-0b94-4de2-ae64-280bcb3ee74e",
   "metadata": {},
   "source": [
    "## generate the data by creating 1000 evenly spaced x values from 0 to 2pi and getting sin(x) and cos(x)"
   ]
  },
  {
   "cell_type": "code",
   "execution_count": 5,
   "id": "3a865ed8-e4d6-4f08-82cd-720f78ef42a8",
   "metadata": {},
   "outputs": [],
   "source": [
    "import numpy\n",
    "\n",
    "n = 1000\n",
    "x_values = numpy.linspace(0,2*math.pi,n)\n",
    "\n",
    "sin_values = []\n",
    "cos_values = []\n",
    "\n",
    "for x in x_values:\n",
    "    sin_values.append(sin(x))\n",
    "    cos_values.append(cos(x))\n"
   ]
  },
  {
   "cell_type": "markdown",
   "id": "4a010062-6798-42f2-9212-c88be08523af",
   "metadata": {},
   "source": [
    "## print the first 10 rows and make a header thing"
   ]
  },
  {
   "cell_type": "code",
   "execution_count": 6,
   "id": "517f5c72-862c-4481-8814-086f43ec8d53",
   "metadata": {},
   "outputs": [
    {
     "name": "stdout",
     "output_type": "stream",
     "text": [
      "X | sin(x) | cos(x)\n",
      "------------\n",
      "0.0 | 0.0 | 1.0\n",
      "0.006289474781961547 | 0.006289433316067751 | 0.9999802213186832\n",
      "0.012578949563923095 | 0.012578617838741058 | 0.9999208860571255\n",
      "0.018868424345884642 | 0.01886730478446709 | 0.9998219965624732\n",
      "0.02515789912784619 | 0.025155245389375847 | 0.9996835567465339\n",
      "0.03144737390980774 | 0.0314421909191206 | 0.9995055720856215\n",
      "0.037736848691769284 | 0.03772789267871718 | 0.99928804962034\n",
      "0.04402632347373083 | 0.04401210202238166 | 0.9990309979553044\n",
      "0.05031579825569238 | 0.05029457036336618 | 0.9987344272588006\n",
      "0.056605273037653926 | 0.056575049183792345 | 0.9983983492623831\n"
     ]
    }
   ],
   "source": [
    "print(\"X | sin(x) | cos(x)\")\n",
    "print(\"------------\")\n",
    "\n",
    "for i in range(10):\n",
    "    print(str(x_values[i]) + \" | \" + str(sin_values[i]) + \" | \" + str(cos_values[i]))"
   ]
  },
  {
   "cell_type": "code",
   "execution_count": null,
   "id": "ef45bdb4-985e-4409-b182-15316196036f",
   "metadata": {},
   "outputs": [],
   "source": []
  }
 ],
 "metadata": {
  "kernelspec": {
   "display_name": "Python 3 (ipykernel)",
   "language": "python",
   "name": "python3"
  },
  "language_info": {
   "codemirror_mode": {
    "name": "ipython",
    "version": 3
   },
   "file_extension": ".py",
   "mimetype": "text/x-python",
   "name": "python",
   "nbconvert_exporter": "python",
   "pygments_lexer": "ipython3",
   "version": "3.10.11"
  }
 },
 "nbformat": 4,
 "nbformat_minor": 5
}
